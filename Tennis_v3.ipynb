{
 "cells": [
  {
   "cell_type": "markdown",
   "metadata": {},
   "source": [
    "# Collaboration and Competition\n",
    "\n",
    "---\n",
    "\n",
    "In this notebook, you will learn how to use the Unity ML-Agents environment for the third project of the [Deep Reinforcement Learning Nanodegree](https://www.udacity.com/course/deep-reinforcement-learning-nanodegree--nd893) program.\n",
    "\n",
    "### 1. Start the Environment\n",
    "\n",
    "We begin by importing the necessary packages.  If the code cell below returns an error, please revisit the project instructions to double-check that you have installed [Unity ML-Agents](https://github.com/Unity-Technologies/ml-agents/blob/master/docs/Installation.md) and [NumPy](http://www.numpy.org/)."
   ]
  },
  {
   "cell_type": "code",
   "execution_count": 1,
   "metadata": {},
   "outputs": [],
   "source": [
    "from unityagents import UnityEnvironment\n",
    "import numpy as np\n",
    "\n",
    "from maddpg_agent import Agent\n",
    "from collections import deque\n",
    "import matplotlib.pyplot as plt\n",
    "import random\n",
    "import time\n",
    "import torch\n",
    "%matplotlib inline"
   ]
  },
  {
   "cell_type": "code",
   "execution_count": 2,
   "metadata": {},
   "outputs": [
    {
     "name": "stderr",
     "output_type": "stream",
     "text": [
      "INFO:unityagents:\n",
      "'Academy' started successfully!\n",
      "Unity Academy name: Academy\n",
      "        Number of Brains: 1\n",
      "        Number of External Brains : 1\n",
      "        Lesson number : 0\n",
      "        Reset Parameters :\n",
      "\t\t\n",
      "Unity brain name: TennisBrain\n",
      "        Number of Visual Observations (per agent): 0\n",
      "        Vector Observation space type: continuous\n",
      "        Vector Observation space size (per agent): 8\n",
      "        Number of stacked Vector Observation: 3\n",
      "        Vector Action space type: continuous\n",
      "        Vector Action space size (per agent): 2\n",
      "        Vector Action descriptions: , \n"
     ]
    }
   ],
   "source": [
    "env = UnityEnvironment(file_name=\"Tennis_Linux/Tennis.x86_64\")"
   ]
  },
  {
   "cell_type": "markdown",
   "metadata": {},
   "source": [
    "Environments contain **_brains_** which are responsible for deciding the actions of their associated agents. Here we check for the first brain available, and set it as the default brain we will be controlling from Python."
   ]
  },
  {
   "cell_type": "code",
   "execution_count": 3,
   "metadata": {},
   "outputs": [],
   "source": [
    "# get the default brain\n",
    "brain_name = env.brain_names[0]\n",
    "brain = env.brains[brain_name]"
   ]
  },
  {
   "cell_type": "markdown",
   "metadata": {},
   "source": [
    "### 2. Examine the State and Action Spaces\n",
    "\n",
    "In this environment, two agents control rackets to bounce a ball over a net. If an agent hits the ball over the net, it receives a reward of +0.1.  If an agent lets a ball hit the ground or hits the ball out of bounds, it receives a reward of -0.01.  Thus, the goal of each agent is to keep the ball in play.\n",
    "\n",
    "The observation space consists of 8 variables corresponding to the position and velocity of the ball and racket. Two continuous actions are available, corresponding to movement toward (or away from) the net, and jumping. \n",
    "\n",
    "Run the code cell below to print some information about the environment."
   ]
  },
  {
   "cell_type": "code",
   "execution_count": 4,
   "metadata": {},
   "outputs": [
    {
     "name": "stdout",
     "output_type": "stream",
     "text": [
      "Number of agents: 2\n",
      "Size of each action: 2\n",
      "There are 2 agents. Each observes a state with length: 24\n",
      "The state for the first agent looks like: [ 0.          0.          0.          0.          0.          0.\n",
      "  0.          0.          0.          0.          0.          0.\n",
      "  0.          0.          0.          0.         -6.65278625 -1.5\n",
      " -0.          0.          6.83172083  6.         -0.          0.        ]\n"
     ]
    }
   ],
   "source": [
    "# reset the environment\n",
    "env_info = env.reset(train_mode=True)[brain_name]\n",
    "\n",
    "# number of agents \n",
    "num_agents = len(env_info.agents)\n",
    "print('Number of agents:', num_agents)\n",
    "\n",
    "# size of each action\n",
    "action_size = brain.vector_action_space_size\n",
    "print('Size of each action:', action_size)\n",
    "\n",
    "# examine the state space \n",
    "states = env_info.vector_observations\n",
    "state_size = states.shape[1]\n",
    "print('There are {} agents. Each observes a state with length: {}'.format(states.shape[0], state_size))\n",
    "print('The state for the first agent looks like:', states[0])"
   ]
  },
  {
   "cell_type": "markdown",
   "metadata": {},
   "source": [
    "### 3. Take Random Actions in the Environment\n",
    "\n",
    "In the next code cell, you will learn how to use the Python API to control the agents and receive feedback from the environment.\n",
    "\n",
    "Once this cell is executed, you will watch the agents' performance, if they select actions at random with each time step.  A window should pop up that allows you to observe the agents.\n",
    "\n",
    "Of course, as part of the project, you'll have to change the code so that the agents are able to use their experiences to gradually choose better actions when interacting with the environment!"
   ]
  },
  {
   "cell_type": "code",
   "execution_count": 5,
   "metadata": {},
   "outputs": [
    {
     "name": "stdout",
     "output_type": "stream",
     "text": [
      "Score (max over agents) from episode 1: 0.0\n",
      "Score (max over agents) from episode 2: 0.0\n",
      "Score (max over agents) from episode 3: 0.0\n",
      "Score (max over agents) from episode 4: 0.0\n",
      "Score (max over agents) from episode 5: 0.0\n"
     ]
    }
   ],
   "source": [
    "for i in range(1, 6):                                      # play game for 5 episodes\n",
    "    env_info = env.reset(train_mode=False)[brain_name]     # reset the environment    \n",
    "    states = env_info.vector_observations                  # get the current state (for each agent)\n",
    "    scores = np.zeros(num_agents)                          # initialize the score (for each agent)\n",
    "    while True:\n",
    "        actions = np.random.randn(num_agents, action_size) # select an action (for each agent)\n",
    "        actions = np.clip(actions, -1, 1)                  # all actions between -1 and 1\n",
    "        env_info = env.step(actions)[brain_name]           # send all actions to tne environment\n",
    "        next_states = env_info.vector_observations         # get next state (for each agent)\n",
    "        rewards = env_info.rewards                         # get reward (for each agent)\n",
    "        dones = env_info.local_done                        # see if episode finished\n",
    "        scores += env_info.rewards                         # update the score (for each agent)\n",
    "        states = next_states                               # roll over states to next time step\n",
    "        if np.any(dones):                                  # exit loop if episode finished\n",
    "            break\n",
    "    print('Score (max over agents) from episode {}: {}'.format(i, np.max(scores)))"
   ]
  },
  {
   "cell_type": "markdown",
   "metadata": {},
   "source": [
    "### 4. It's Your Turn!\n",
    "\n",
    "Now it's your turn to train your own agent to solve the environment!  When training the environment, set `train_mode=True`, so that the line for resetting the environment looks like the following:\n",
    "```python\n",
    "env_info = env.reset(train_mode=True)[brain_name]\n",
    "```"
   ]
  },
  {
   "cell_type": "code",
   "execution_count": 6,
   "metadata": {},
   "outputs": [],
   "source": [
    "def maddpg(n_episodes=5000, max_t=1000, print_every=10, train_mode=True):\n",
    "    \"\"\"Multi-Agent Deep Deterministic Policy Gradient (MADDPG)\n",
    "    \n",
    "    Params\n",
    "    ======\n",
    "        n_episodes (int)      : maximum number of training episodes\n",
    "        max_t (int)           : maximum number of timesteps per episode\n",
    "        train_mode (bool)     : if 'True' set environment to training mode\n",
    "\n",
    "    \"\"\"\n",
    "    max_scores = []                   # list of highest scores from each episode\n",
    "    scores_window = deque(maxlen=100) # mean scores from last 100 episodes\n",
    "\n",
    "    for i_episode in range(1, n_episodes+1):\n",
    "        env_info = env.reset(train_mode=train_mode)[brain_name]   # reset the environment\n",
    "        states = np.reshape(env_info.vector_observations, (1,48)) # get current state for each agent \n",
    "        scores = np.zeros(num_agents)                             # initialize score for each agent\n",
    "        agent_0.reset()\n",
    "        agent_1.reset()\n",
    "        \n",
    "        for t in range(max_t):\n",
    "            action_0 = agent_0.act(states, add_noise=True) # agent 0 selects an action\n",
    "            action_1 = agent_1.act(states, add_noise=True) # agent 1 selects an action\n",
    "            actions  = np.concatenate((action_0, action_1), axis=0).flatten()\n",
    "            env_info = env.step(actions)[brain_name]       # send actions to environment\n",
    "            next_states = np.reshape(env_info.vector_observations, (1, 48)) # get next state\n",
    "            rewards = env_info.rewards                     # get reward\n",
    "            dones = env_info.local_done                    # see if episode has finished\n",
    "            agent_0.step(states, actions, rewards[0], next_states, dones, 0) # agent 1 learns\n",
    "            agent_1.step(states, actions, rewards[1], next_states, dones, 1) # agent 2 learns\n",
    "            states = next_states                           # roll over states to next time step\n",
    "            scores += np.max(rewards)                      # update the score for each agent\n",
    "            if np.any(dones):                              # exit loop when episode ends\n",
    "                break\n",
    "        \n",
    "        higher_score = np.max(scores)       # get the higher score of the two agents\n",
    "        max_scores.append(higher_score)     # store the higher score in a vector\n",
    "        scores_window.append(higher_score)  # store the higher score in a window\n",
    "\n",
    "        if i_episode % print_every == 0:\n",
    "            print('\\rEpisode {} \\tMean of Last 100 Episodes: {:.3f}'.format(\\\n",
    "                  i_episode, np.mean(scores_window)))\n",
    "\n",
    "        if np.mean(scores_window) >= 0.5:\n",
    "            print('\\nEnvironment SOLVED in {} episodes!'.format(i_episode))            \n",
    "            if train_mode:\n",
    "                torch.save(agent_0.actor_local.state_dict(), 'checkpoint_actor_0.pth')\n",
    "                torch.save(agent_0.critic_local.state_dict(), 'checkpoint_critic_0.pth')\n",
    "                torch.save(agent_1.actor_local.state_dict(), 'checkpoint_actor_1.pth')\n",
    "                torch.save(agent_1.critic_local.state_dict(), 'checkpoint_critic_1.pth')\n",
    "            break\n",
    "            \n",
    "    return max_scores"
   ]
  },
  {
   "cell_type": "code",
   "execution_count": null,
   "metadata": {
    "scrolled": false
   },
   "outputs": [
    {
     "name": "stderr",
     "output_type": "stream",
     "text": [
      "/home/ha/Documents/drl/udacity/deep-reinforcement-learning/p3_collab-compet/DRLND_Collaboration_Competition/maddpg_agent.py:120: UserWarning: Using a target size (torch.Size([128, 2])) that is different to the input size (torch.Size([128, 1])). This will likely lead to incorrect results due to broadcasting. Please ensure they have the same size.\n",
      "  critic_loss = F.mse_loss(Q_expected, Q_targets)\n"
     ]
    },
    {
     "name": "stdout",
     "output_type": "stream",
     "text": [
      "Episode 10 \tMean of Last 100 Episodes: 0.020\n",
      "Episode 20 \tMean of Last 100 Episodes: 0.015\n",
      "Episode 30 \tMean of Last 100 Episodes: 0.010\n",
      "Episode 40 \tMean of Last 100 Episodes: 0.008\n",
      "Episode 50 \tMean of Last 100 Episodes: 0.006\n",
      "Episode 60 \tMean of Last 100 Episodes: 0.005\n",
      "Episode 70 \tMean of Last 100 Episodes: 0.004\n",
      "Episode 80 \tMean of Last 100 Episodes: 0.004\n",
      "Episode 90 \tMean of Last 100 Episodes: 0.003\n",
      "Episode 100 \tMean of Last 100 Episodes: 0.003\n",
      "Episode 110 \tMean of Last 100 Episodes: 0.001\n",
      "Episode 120 \tMean of Last 100 Episodes: 0.000\n",
      "Episode 130 \tMean of Last 100 Episodes: 0.000\n",
      "Episode 140 \tMean of Last 100 Episodes: 0.000\n",
      "Episode 150 \tMean of Last 100 Episodes: 0.000\n",
      "Episode 160 \tMean of Last 100 Episodes: 0.000\n",
      "Episode 170 \tMean of Last 100 Episodes: 0.000\n",
      "Episode 180 \tMean of Last 100 Episodes: 0.000\n",
      "Episode 190 \tMean of Last 100 Episodes: 0.000\n",
      "Episode 200 \tMean of Last 100 Episodes: 0.000\n",
      "Episode 210 \tMean of Last 100 Episodes: 0.000\n",
      "Episode 220 \tMean of Last 100 Episodes: 0.000\n",
      "Episode 230 \tMean of Last 100 Episodes: 0.000\n",
      "Episode 240 \tMean of Last 100 Episodes: 0.000\n",
      "Episode 250 \tMean of Last 100 Episodes: 0.000\n",
      "Episode 260 \tMean of Last 100 Episodes: 0.000\n",
      "Episode 270 \tMean of Last 100 Episodes: 0.000\n",
      "Episode 280 \tMean of Last 100 Episodes: 0.000\n",
      "Episode 290 \tMean of Last 100 Episodes: 0.000\n",
      "Episode 300 \tMean of Last 100 Episodes: 0.000\n",
      "Episode 310 \tMean of Last 100 Episodes: 0.000\n",
      "Episode 320 \tMean of Last 100 Episodes: 0.000\n",
      "Episode 330 \tMean of Last 100 Episodes: 0.000\n",
      "Episode 340 \tMean of Last 100 Episodes: 0.003\n",
      "Episode 350 \tMean of Last 100 Episodes: 0.006\n",
      "Episode 360 \tMean of Last 100 Episodes: 0.007\n",
      "Episode 370 \tMean of Last 100 Episodes: 0.008\n",
      "Episode 380 \tMean of Last 100 Episodes: 0.009\n",
      "Episode 390 \tMean of Last 100 Episodes: 0.009\n",
      "Episode 400 \tMean of Last 100 Episodes: 0.009\n",
      "Episode 410 \tMean of Last 100 Episodes: 0.010\n",
      "Episode 420 \tMean of Last 100 Episodes: 0.010\n",
      "Episode 430 \tMean of Last 100 Episodes: 0.010\n",
      "Episode 440 \tMean of Last 100 Episodes: 0.007\n",
      "Episode 450 \tMean of Last 100 Episodes: 0.004\n",
      "Episode 460 \tMean of Last 100 Episodes: 0.003\n",
      "Episode 470 \tMean of Last 100 Episodes: 0.005\n",
      "Episode 480 \tMean of Last 100 Episodes: 0.004\n",
      "Episode 490 \tMean of Last 100 Episodes: 0.007\n",
      "Episode 500 \tMean of Last 100 Episodes: 0.009\n",
      "Episode 510 \tMean of Last 100 Episodes: 0.010\n",
      "Episode 520 \tMean of Last 100 Episodes: 0.012\n",
      "Episode 530 \tMean of Last 100 Episodes: 0.012\n",
      "Episode 540 \tMean of Last 100 Episodes: 0.015\n",
      "Episode 550 \tMean of Last 100 Episodes: 0.020\n",
      "Episode 560 \tMean of Last 100 Episodes: 0.023\n",
      "Episode 570 \tMean of Last 100 Episodes: 0.022\n",
      "Episode 580 \tMean of Last 100 Episodes: 0.026\n",
      "Episode 590 \tMean of Last 100 Episodes: 0.033\n",
      "Episode 600 \tMean of Last 100 Episodes: 0.033\n",
      "Episode 610 \tMean of Last 100 Episodes: 0.032\n",
      "Episode 620 \tMean of Last 100 Episodes: 0.038\n",
      "Episode 630 \tMean of Last 100 Episodes: 0.042\n",
      "Episode 640 \tMean of Last 100 Episodes: 0.040\n",
      "Episode 650 \tMean of Last 100 Episodes: 0.036\n",
      "Episode 660 \tMean of Last 100 Episodes: 0.033\n",
      "Episode 670 \tMean of Last 100 Episodes: 0.031\n",
      "Episode 680 \tMean of Last 100 Episodes: 0.027\n",
      "Episode 690 \tMean of Last 100 Episodes: 0.018\n",
      "Episode 700 \tMean of Last 100 Episodes: 0.018\n",
      "Episode 710 \tMean of Last 100 Episodes: 0.017\n",
      "Episode 720 \tMean of Last 100 Episodes: 0.009\n",
      "Episode 730 \tMean of Last 100 Episodes: 0.009\n",
      "Episode 740 \tMean of Last 100 Episodes: 0.011\n",
      "Episode 750 \tMean of Last 100 Episodes: 0.012\n",
      "Episode 760 \tMean of Last 100 Episodes: 0.014\n",
      "Episode 770 \tMean of Last 100 Episodes: 0.014\n",
      "Episode 780 \tMean of Last 100 Episodes: 0.017\n",
      "Episode 790 \tMean of Last 100 Episodes: 0.022\n",
      "Episode 800 \tMean of Last 100 Episodes: 0.027\n",
      "Episode 810 \tMean of Last 100 Episodes: 0.034\n",
      "Episode 820 \tMean of Last 100 Episodes: 0.040\n",
      "Episode 830 \tMean of Last 100 Episodes: 0.046\n",
      "Episode 840 \tMean of Last 100 Episodes: 0.047\n",
      "Episode 850 \tMean of Last 100 Episodes: 0.050\n",
      "Episode 860 \tMean of Last 100 Episodes: 0.058\n",
      "Episode 870 \tMean of Last 100 Episodes: 0.067\n",
      "Episode 880 \tMean of Last 100 Episodes: 0.076\n",
      "Episode 890 \tMean of Last 100 Episodes: 0.079\n",
      "Episode 900 \tMean of Last 100 Episodes: 0.079\n",
      "Episode 910 \tMean of Last 100 Episodes: 0.082\n",
      "Episode 920 \tMean of Last 100 Episodes: 0.089\n",
      "Episode 930 \tMean of Last 100 Episodes: 0.089\n",
      "Episode 940 \tMean of Last 100 Episodes: 0.096\n",
      "Episode 950 \tMean of Last 100 Episodes: 0.099\n",
      "Episode 960 \tMean of Last 100 Episodes: 0.096\n",
      "Episode 970 \tMean of Last 100 Episodes: 0.096\n",
      "Episode 980 \tMean of Last 100 Episodes: 0.094\n",
      "Episode 990 \tMean of Last 100 Episodes: 0.094\n",
      "Episode 1000 \tMean of Last 100 Episodes: 0.094\n",
      "Episode 1010 \tMean of Last 100 Episodes: 0.089\n",
      "Episode 1020 \tMean of Last 100 Episodes: 0.085\n",
      "Episode 1030 \tMean of Last 100 Episodes: 0.094\n",
      "Episode 1040 \tMean of Last 100 Episodes: 0.102\n",
      "Episode 1050 \tMean of Last 100 Episodes: 0.104\n",
      "Episode 1060 \tMean of Last 100 Episodes: 0.107\n",
      "Episode 1070 \tMean of Last 100 Episodes: 0.139\n",
      "Episode 1080 \tMean of Last 100 Episodes: 0.140\n",
      "Episode 1090 \tMean of Last 100 Episodes: 0.143\n",
      "Episode 1100 \tMean of Last 100 Episodes: 0.151\n",
      "Episode 1110 \tMean of Last 100 Episodes: 0.171\n",
      "Episode 1120 \tMean of Last 100 Episodes: 0.200\n",
      "Episode 1130 \tMean of Last 100 Episodes: 0.216\n",
      "Episode 1140 \tMean of Last 100 Episodes: 0.226\n",
      "Episode 1150 \tMean of Last 100 Episodes: 0.240\n",
      "Episode 1160 \tMean of Last 100 Episodes: 0.273\n",
      "Episode 1170 \tMean of Last 100 Episodes: 0.246\n",
      "Episode 1180 \tMean of Last 100 Episodes: 0.252\n",
      "Episode 1190 \tMean of Last 100 Episodes: 0.263\n",
      "Episode 1200 \tMean of Last 100 Episodes: 0.288\n",
      "Episode 1210 \tMean of Last 100 Episodes: 0.288\n",
      "Episode 1220 \tMean of Last 100 Episodes: 0.276\n",
      "Episode 1230 \tMean of Last 100 Episodes: 0.260\n",
      "Episode 1240 \tMean of Last 100 Episodes: 0.264\n",
      "Episode 1250 \tMean of Last 100 Episodes: 0.263\n",
      "Episode 1260 \tMean of Last 100 Episodes: 0.267\n",
      "Episode 1270 \tMean of Last 100 Episodes: 0.279\n",
      "Episode 1280 \tMean of Last 100 Episodes: 0.284\n",
      "Episode 1290 \tMean of Last 100 Episodes: 0.286\n",
      "Episode 1300 \tMean of Last 100 Episodes: 0.264\n",
      "Episode 1310 \tMean of Last 100 Episodes: 0.247\n",
      "Episode 1320 \tMean of Last 100 Episodes: 0.236\n",
      "Episode 1330 \tMean of Last 100 Episodes: 0.232\n",
      "Episode 1340 \tMean of Last 100 Episodes: 0.218\n",
      "Episode 1350 \tMean of Last 100 Episodes: 0.208\n",
      "Episode 1360 \tMean of Last 100 Episodes: 0.172\n",
      "Episode 1370 \tMean of Last 100 Episodes: 0.161\n",
      "Episode 1380 \tMean of Last 100 Episodes: 0.153\n",
      "Episode 1390 \tMean of Last 100 Episodes: 0.141\n",
      "Episode 1400 \tMean of Last 100 Episodes: 0.164\n",
      "Episode 1410 \tMean of Last 100 Episodes: 0.180\n",
      "Episode 1420 \tMean of Last 100 Episodes: 0.184\n",
      "Episode 1430 \tMean of Last 100 Episodes: 0.193\n",
      "Episode 1440 \tMean of Last 100 Episodes: 0.202\n",
      "Episode 1450 \tMean of Last 100 Episodes: 0.219\n",
      "Episode 1460 \tMean of Last 100 Episodes: 0.235\n",
      "Episode 1470 \tMean of Last 100 Episodes: 0.231\n",
      "Episode 1480 \tMean of Last 100 Episodes: 0.245\n",
      "Episode 1490 \tMean of Last 100 Episodes: 0.257\n",
      "Episode 1500 \tMean of Last 100 Episodes: 0.226\n"
     ]
    }
   ],
   "source": [
    "agent_0 = Agent(state_size, action_size, num_agents=1, random_seed=0)\n",
    "agent_1 = Agent(state_size, action_size, num_agents=1, random_seed=0)\n",
    "scores = maddpg()"
   ]
  },
  {
   "cell_type": "code",
   "execution_count": null,
   "metadata": {},
   "outputs": [],
   "source": [
    "# plot the scores\n",
    "fig = plt.figure()\n",
    "ax = fig.add_subplot(111)\n",
    "plt.plot(np.arange(len(scores)), scores, label='MADDPG')\n",
    "plt.ylabel('Score')\n",
    "plt.xlabel('Episode #')\n",
    "plt.legend(loc='upper left');\n",
    "plt.show()"
   ]
  },
  {
   "cell_type": "code",
   "execution_count": 10,
   "metadata": {},
   "outputs": [],
   "source": [
    "# Close the environment\n",
    "env.close()"
   ]
  },
  {
   "cell_type": "code",
   "execution_count": null,
   "metadata": {},
   "outputs": [],
   "source": []
  }
 ],
 "metadata": {
  "kernelspec": {
   "display_name": "drlnd",
   "language": "python",
   "name": "drlnd"
  },
  "language_info": {
   "codemirror_mode": {
    "name": "ipython",
    "version": 3
   },
   "file_extension": ".py",
   "mimetype": "text/x-python",
   "name": "python",
   "nbconvert_exporter": "python",
   "pygments_lexer": "ipython3",
   "version": "3.6.9"
  }
 },
 "nbformat": 4,
 "nbformat_minor": 2
}
